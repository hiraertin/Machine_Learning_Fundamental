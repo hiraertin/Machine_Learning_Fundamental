{
 "cells": [
  {
   "cell_type": "code",
   "execution_count": 13,
   "id": "434cfe00-a199-4921-9d56-3bd5bc5ad8ba",
   "metadata": {},
   "outputs": [
    {
     "name": "stdout",
     "output_type": "stream",
     "text": [
      "   ulke  boy  kilo  yas cinsiyet\n",
      "0    tr  130    30   10        e\n",
      "1    tr  125    36   11        e\n",
      "2    tr  135    34   10        k\n",
      "3    tr  133    30    9        k\n",
      "4    tr  129    38   12        e\n",
      "5    tr  180    90   30        e\n",
      "6    tr  190    80   25        e\n",
      "7    tr  175    90   35        e\n",
      "8    tr  177    60   22        k\n",
      "9    us  185   105   33        e\n",
      "10   us  165    55   27        k\n",
      "11   us  155    50   44        k\n",
      "12   us  160    58   39        k\n",
      "13   us  162    59   41        k\n",
      "14   us  167    62   55        k\n",
      "15   fr  174    70   47        e\n",
      "16   fr  193    90   23        e\n",
      "17   fr  187    80   27        e\n",
      "18   fr  183    88   28        e\n",
      "19   fr  159    40   29        k\n",
      "20   fr  164    66   32        k\n",
      "21   fr  166    56   42        k\n"
     ]
    }
   ],
   "source": [
    "#linear regression\n",
    "import pandas as pd\n",
    "import matplotlib.pyplot as plt\n",
    "import numpy as np\n",
    "#veri yükleme\n",
    "veriler = pd.read_csv('veriler.csv')\n",
    "print(veriler)"
   ]
  },
  {
   "cell_type": "code",
   "execution_count": 8,
   "id": "8d163c58-8379-4178-80ad-7e208e1494b2",
   "metadata": {},
   "outputs": [
    {
     "name": "stdout",
     "output_type": "stream",
     "text": [
      "[[0. 1. 0.]\n",
      " [0. 1. 0.]\n",
      " [0. 1. 0.]\n",
      " [0. 1. 0.]\n",
      " [0. 1. 0.]\n",
      " [0. 1. 0.]\n",
      " [0. 1. 0.]\n",
      " [0. 1. 0.]\n",
      " [0. 1. 0.]\n",
      " [0. 0. 1.]\n",
      " [0. 0. 1.]\n",
      " [0. 0. 1.]\n",
      " [0. 0. 1.]\n",
      " [0. 0. 1.]\n",
      " [0. 0. 1.]\n",
      " [1. 0. 0.]\n",
      " [1. 0. 0.]\n",
      " [1. 0. 0.]\n",
      " [1. 0. 0.]\n",
      " [1. 0. 0.]\n",
      " [1. 0. 0.]\n",
      " [1. 0. 0.]]\n"
     ]
    }
   ],
   "source": [
    "ulke = veriler.iloc[:,0:1].values\n",
    "from sklearn import preprocessing\n",
    "le = preprocessing.LabelEncoder()\n",
    "ulke[:,0] = le.fit_transform(veriler.iloc[:,0])\n",
    "ohe = preprocessing.OneHotEncoder()\n",
    "ulke = ohe.fit_transform(ulke).toarray()\n",
    "print(ulke)"
   ]
  },
  {
   "cell_type": "code",
   "execution_count": 22,
   "id": "484129be-95b5-4b77-92b6-9c20a1dba2c7",
   "metadata": {},
   "outputs": [
    {
     "name": "stdout",
     "output_type": "stream",
     "text": [
      "[[1. 0.]\n",
      " [1. 0.]\n",
      " [0. 1.]\n",
      " [0. 1.]\n",
      " [1. 0.]\n",
      " [1. 0.]\n",
      " [1. 0.]\n",
      " [1. 0.]\n",
      " [0. 1.]\n",
      " [1. 0.]\n",
      " [0. 1.]\n",
      " [0. 1.]\n",
      " [0. 1.]\n",
      " [0. 1.]\n",
      " [0. 1.]\n",
      " [1. 0.]\n",
      " [1. 0.]\n",
      " [1. 0.]\n",
      " [1. 0.]\n",
      " [0. 1.]\n",
      " [0. 1.]\n",
      " [0. 1.]]\n"
     ]
    }
   ],
   "source": [
    "c = veriler.iloc[:,-1:].values\n",
    "from sklearn import preprocessing\n",
    "le = preprocessing.LabelEncoder()\n",
    "c[:,-1] = le.fit_transform(veriler.iloc[:,-1])\n",
    "ohe = preprocessing.OneHotEncoder()\n",
    "c = ohe.fit_transform(c).toarray()\n",
    "print(c)"
   ]
  },
  {
   "cell_type": "code",
   "execution_count": 9,
   "id": "b2b6f472-d182-460c-aca8-929d78da4f67",
   "metadata": {},
   "outputs": [
    {
     "name": "stdout",
     "output_type": "stream",
     "text": [
      "     fr   tr   us\n",
      "0   0.0  1.0  0.0\n",
      "1   0.0  1.0  0.0\n",
      "2   0.0  1.0  0.0\n",
      "3   0.0  1.0  0.0\n",
      "4   0.0  1.0  0.0\n",
      "5   0.0  1.0  0.0\n",
      "6   0.0  1.0  0.0\n",
      "7   0.0  1.0  0.0\n",
      "8   0.0  1.0  0.0\n",
      "9   0.0  0.0  1.0\n",
      "10  0.0  0.0  1.0\n",
      "11  0.0  0.0  1.0\n",
      "12  0.0  0.0  1.0\n",
      "13  0.0  0.0  1.0\n",
      "14  0.0  0.0  1.0\n",
      "15  1.0  0.0  0.0\n",
      "16  1.0  0.0  0.0\n",
      "17  1.0  0.0  0.0\n",
      "18  1.0  0.0  0.0\n",
      "19  1.0  0.0  0.0\n",
      "20  1.0  0.0  0.0\n",
      "21  1.0  0.0  0.0\n"
     ]
    }
   ],
   "source": [
    "sonuc = pd.DataFrame(data=ulke, index= range(22), columns= ['fr', 'tr', 'us'])\n",
    "print(sonuc)"
   ]
  },
  {
   "cell_type": "code",
   "execution_count": 14,
   "id": "c69f2962-ad33-4724-843b-73de6895d5d6",
   "metadata": {},
   "outputs": [
    {
     "name": "stdout",
     "output_type": "stream",
     "text": [
      "    boy  kilo  yas\n",
      "0   130    30   10\n",
      "1   125    36   11\n",
      "2   135    34   10\n",
      "3   133    30    9\n",
      "4   129    38   12\n",
      "5   180    90   30\n",
      "6   190    80   25\n",
      "7   175    90   35\n",
      "8   177    60   22\n",
      "9   185   105   33\n",
      "10  165    55   27\n",
      "11  155    50   44\n",
      "12  160    58   39\n",
      "13  162    59   41\n",
      "14  167    62   55\n",
      "15  174    70   47\n",
      "16  193    90   23\n",
      "17  187    80   27\n",
      "18  183    88   28\n",
      "19  159    40   29\n",
      "20  164    66   32\n",
      "21  166    56   42\n"
     ]
    }
   ],
   "source": [
    "yas = veriler.iloc[:,1:4].values\n",
    "sonuc2 = pd.DataFrame(data=yas, index=range(22), columns= ['boy', 'kilo', 'yas'])\n",
    "print(sonuc2)"
   ]
  },
  {
   "cell_type": "code",
   "execution_count": 15,
   "id": "e872a295-80f8-488f-b041-fe310ab82324",
   "metadata": {},
   "outputs": [
    {
     "name": "stdout",
     "output_type": "stream",
     "text": [
      "['e' 'e' 'k' 'k' 'e' 'e' 'e' 'e' 'k' 'e' 'k' 'k' 'k' 'k' 'k' 'e' 'e' 'e'\n",
      " 'e' 'k' 'k' 'k']\n"
     ]
    }
   ],
   "source": [
    "cinsiyet = veriler.iloc[:,-1].values\n",
    "print(cinsiyet)"
   ]
  },
  {
   "cell_type": "code",
   "execution_count": 23,
   "id": "2c9b2a18-b260-41ac-953b-f33188af73ad",
   "metadata": {},
   "outputs": [
    {
     "name": "stdout",
     "output_type": "stream",
     "text": [
      "    cinsiyet\n",
      "0        1.0\n",
      "1        1.0\n",
      "2        0.0\n",
      "3        0.0\n",
      "4        1.0\n",
      "5        1.0\n",
      "6        1.0\n",
      "7        1.0\n",
      "8        0.0\n",
      "9        1.0\n",
      "10       0.0\n",
      "11       0.0\n",
      "12       0.0\n",
      "13       0.0\n",
      "14       0.0\n",
      "15       1.0\n",
      "16       1.0\n",
      "17       1.0\n",
      "18       1.0\n",
      "19       0.0\n",
      "20       0.0\n",
      "21       0.0\n"
     ]
    }
   ],
   "source": [
    "sonuc3 = pd.DataFrame(data = c[:,:1], index=range(22), columns= ['cinsiyet'])\n",
    "print(sonuc3)"
   ]
  },
  {
   "cell_type": "code",
   "execution_count": 24,
   "id": "9445c365-d5f8-43a3-92f0-2fce306f0dca",
   "metadata": {},
   "outputs": [
    {
     "name": "stdout",
     "output_type": "stream",
     "text": [
      "     fr   tr   us  boy  kilo  yas\n",
      "0   0.0  1.0  0.0  130    30   10\n",
      "1   0.0  1.0  0.0  125    36   11\n",
      "2   0.0  1.0  0.0  135    34   10\n",
      "3   0.0  1.0  0.0  133    30    9\n",
      "4   0.0  1.0  0.0  129    38   12\n",
      "5   0.0  1.0  0.0  180    90   30\n",
      "6   0.0  1.0  0.0  190    80   25\n",
      "7   0.0  1.0  0.0  175    90   35\n",
      "8   0.0  1.0  0.0  177    60   22\n",
      "9   0.0  0.0  1.0  185   105   33\n",
      "10  0.0  0.0  1.0  165    55   27\n",
      "11  0.0  0.0  1.0  155    50   44\n",
      "12  0.0  0.0  1.0  160    58   39\n",
      "13  0.0  0.0  1.0  162    59   41\n",
      "14  0.0  0.0  1.0  167    62   55\n",
      "15  1.0  0.0  0.0  174    70   47\n",
      "16  1.0  0.0  0.0  193    90   23\n",
      "17  1.0  0.0  0.0  187    80   27\n",
      "18  1.0  0.0  0.0  183    88   28\n",
      "19  1.0  0.0  0.0  159    40   29\n",
      "20  1.0  0.0  0.0  164    66   32\n",
      "21  1.0  0.0  0.0  166    56   42\n"
     ]
    }
   ],
   "source": [
    "s = pd.concat([sonuc, sonuc2], axis=1)\n",
    "print(s)"
   ]
  },
  {
   "cell_type": "code",
   "execution_count": 25,
   "id": "f2f0100b-50e3-4b5a-92cb-8c93b66e5bd5",
   "metadata": {},
   "outputs": [
    {
     "name": "stdout",
     "output_type": "stream",
     "text": [
      "     fr   tr   us  boy  kilo  yas  cinsiyet\n",
      "0   0.0  1.0  0.0  130    30   10       1.0\n",
      "1   0.0  1.0  0.0  125    36   11       1.0\n",
      "2   0.0  1.0  0.0  135    34   10       0.0\n",
      "3   0.0  1.0  0.0  133    30    9       0.0\n",
      "4   0.0  1.0  0.0  129    38   12       1.0\n",
      "5   0.0  1.0  0.0  180    90   30       1.0\n",
      "6   0.0  1.0  0.0  190    80   25       1.0\n",
      "7   0.0  1.0  0.0  175    90   35       1.0\n",
      "8   0.0  1.0  0.0  177    60   22       0.0\n",
      "9   0.0  0.0  1.0  185   105   33       1.0\n",
      "10  0.0  0.0  1.0  165    55   27       0.0\n",
      "11  0.0  0.0  1.0  155    50   44       0.0\n",
      "12  0.0  0.0  1.0  160    58   39       0.0\n",
      "13  0.0  0.0  1.0  162    59   41       0.0\n",
      "14  0.0  0.0  1.0  167    62   55       0.0\n",
      "15  1.0  0.0  0.0  174    70   47       1.0\n",
      "16  1.0  0.0  0.0  193    90   23       1.0\n",
      "17  1.0  0.0  0.0  187    80   27       1.0\n",
      "18  1.0  0.0  0.0  183    88   28       1.0\n",
      "19  1.0  0.0  0.0  159    40   29       0.0\n",
      "20  1.0  0.0  0.0  164    66   32       0.0\n",
      "21  1.0  0.0  0.0  166    56   42       0.0\n"
     ]
    }
   ],
   "source": [
    "s2 = pd.concat([s, sonuc3], axis=1)\n",
    "print(s2)"
   ]
  },
  {
   "cell_type": "code",
   "execution_count": 26,
   "id": "f6179840-cff9-4547-9293-8a07c185eca5",
   "metadata": {},
   "outputs": [],
   "source": [
    "#veriyi train ve test  ile bölmek\n",
    "from sklearn.model_selection import train_test_split\n",
    "x_train, x_test, y_train, y_test =  train_test_split(s, sonuc3, test_size=0.33, random_state=0)"
   ]
  },
  {
   "cell_type": "code",
   "execution_count": 31,
   "id": "441dd8bf-34f6-44d7-b698-e3065449bb0b",
   "metadata": {},
   "outputs": [
    {
     "name": "stdout",
     "output_type": "stream",
     "text": [
      "LinearRegression()\n"
     ]
    }
   ],
   "source": [
    "from sklearn.linear_model import LinearRegression\n",
    "regressor = LinearRegression()\n",
    "regressor.fit(x_train,y_train)"
   ]
  },
  {
   "cell_type": "code",
   "execution_count": 32,
   "id": "52eb4760-db73-4887-bcb0-e92095c26ac6",
   "metadata": {},
   "outputs": [],
   "source": [
    "y_pred = regressor.predict(x_test)"
   ]
  },
  {
   "cell_type": "code",
   "execution_count": 33,
   "id": "60eb5ca0-bf0b-4dd9-b89b-6734458373e2",
   "metadata": {},
   "outputs": [
    {
     "name": "stdout",
     "output_type": "stream",
     "text": [
      "[[ 0.98720204]\n",
      " [-0.12036863]\n",
      " [ 0.05009703]\n",
      " [ 0.07137418]\n",
      " [ 0.72473935]\n",
      " [ 0.64615044]\n",
      " [-0.03567453]\n",
      " [ 0.32612171]]\n"
     ]
    }
   ],
   "source": [
    "print(y_pred)"
   ]
  },
  {
   "cell_type": "code",
   "execution_count": 35,
   "id": "9e41e87f-8b66-4ef1-ab7c-70acaed283da",
   "metadata": {},
   "outputs": [
    {
     "name": "stdout",
     "output_type": "stream",
     "text": [
      "[[130]\n",
      " [125]\n",
      " [135]\n",
      " [133]\n",
      " [129]\n",
      " [180]\n",
      " [190]\n",
      " [175]\n",
      " [177]\n",
      " [185]\n",
      " [165]\n",
      " [155]\n",
      " [160]\n",
      " [162]\n",
      " [167]\n",
      " [174]\n",
      " [193]\n",
      " [187]\n",
      " [183]\n",
      " [159]\n",
      " [164]\n",
      " [166]]\n"
     ]
    }
   ],
   "source": [
    "boy = s2.iloc[:,3:4].values\n",
    "print(boy)"
   ]
  },
  {
   "cell_type": "code",
   "execution_count": 39,
   "id": "88cbe1a8-21ed-47a0-9800-ca10eb954e08",
   "metadata": {},
   "outputs": [
    {
     "name": "stdout",
     "output_type": "stream",
     "text": [
      "     fr   tr   us  kilo  yas  cinsiyet\n",
      "0   0.0  1.0  0.0    30   10       1.0\n",
      "1   0.0  1.0  0.0    36   11       1.0\n",
      "2   0.0  1.0  0.0    34   10       0.0\n",
      "3   0.0  1.0  0.0    30    9       0.0\n",
      "4   0.0  1.0  0.0    38   12       1.0\n",
      "5   0.0  1.0  0.0    90   30       1.0\n",
      "6   0.0  1.0  0.0    80   25       1.0\n",
      "7   0.0  1.0  0.0    90   35       1.0\n",
      "8   0.0  1.0  0.0    60   22       0.0\n",
      "9   0.0  0.0  1.0   105   33       1.0\n",
      "10  0.0  0.0  1.0    55   27       0.0\n",
      "11  0.0  0.0  1.0    50   44       0.0\n",
      "12  0.0  0.0  1.0    58   39       0.0\n",
      "13  0.0  0.0  1.0    59   41       0.0\n",
      "14  0.0  0.0  1.0    62   55       0.0\n",
      "15  1.0  0.0  0.0    70   47       1.0\n",
      "16  1.0  0.0  0.0    90   23       1.0\n",
      "17  1.0  0.0  0.0    80   27       1.0\n",
      "18  1.0  0.0  0.0    88   28       1.0\n",
      "19  1.0  0.0  0.0    40   29       0.0\n",
      "20  1.0  0.0  0.0    66   32       0.0\n",
      "21  1.0  0.0  0.0    56   42       0.0\n"
     ]
    }
   ],
   "source": [
    "sol = s2.iloc[:,:3]\n",
    "sag = s2.iloc[:,4:]\n",
    "veri = pd.concat([sol, sag], axis=1)\n",
    "print(veri)"
   ]
  },
  {
   "cell_type": "code",
   "execution_count": 45,
   "id": "847784ab-2126-45e7-a872-b8dd420a36a5",
   "metadata": {},
   "outputs": [
    {
     "name": "stdout",
     "output_type": "stream",
     "text": [
      "[[164]\n",
      " [165]\n",
      " [167]\n",
      " [162]\n",
      " [125]\n",
      " [166]\n",
      " [155]\n",
      " [159]]\n"
     ]
    }
   ],
   "source": [
    "x_train, x_test, y_train, y_test =  train_test_split(veri, boy, test_size=0.33, random_state=0)\n",
    "print(y_test)"
   ]
  },
  {
   "cell_type": "code",
   "execution_count": 42,
   "id": "095d1bf6-d5a4-4008-9477-82956243aec8",
   "metadata": {},
   "outputs": [],
   "source": [
    "r = LinearRegression()\n",
    "r.fit(x_train,y_train)\n",
    "y_pred = r.predict(x_test)"
   ]
  },
  {
   "cell_type": "code",
   "execution_count": null,
   "id": "1061172b-87f6-4198-96ef-60dc7978b30d",
   "metadata": {},
   "outputs": [],
   "source": []
  }
 ],
 "metadata": {
  "kernelspec": {
   "display_name": "Python 3 (ipykernel)",
   "language": "python",
   "name": "python3"
  },
  "language_info": {
   "codemirror_mode": {
    "name": "ipython",
    "version": 3
   },
   "file_extension": ".py",
   "mimetype": "text/x-python",
   "name": "python",
   "nbconvert_exporter": "python",
   "pygments_lexer": "ipython3",
   "version": "3.10.12"
  }
 },
 "nbformat": 4,
 "nbformat_minor": 5
}
