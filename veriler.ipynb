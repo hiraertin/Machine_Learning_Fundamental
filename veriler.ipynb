{
 "cells": [
  {
   "cell_type": "code",
   "execution_count": 16,
   "id": "49c281b9-1d7a-4136-a265-c8d67fc6cb27",
   "metadata": {},
   "outputs": [
    {
     "name": "stdout",
     "output_type": "stream",
     "text": [
      "   ulke  boy  kilo  yas cinsiyet\n",
      "0    tr  130    30   10        e\n",
      "1    tr  125    36   11        e\n",
      "2    tr  135    34   10        k\n",
      "3    tr  133    30    9        k\n",
      "4    tr  129    38   12        e\n",
      "5    tr  180    90   30        e\n",
      "6    tr  190    80   25        e\n",
      "7    tr  175    90   35        e\n",
      "8    tr  177    60   22        k\n",
      "9    us  185   105   33        e\n",
      "10   us  165    55   27        k\n",
      "11   us  155    50   44        k\n",
      "12   us  160    58   39        k\n",
      "13   us  162    59   41        k\n",
      "14   us  167    62   55        k\n",
      "15   fr  174    70   47        e\n",
      "16   fr  193    90   23        e\n",
      "17   fr  187    80   27        e\n",
      "18   fr  183    88   28        e\n",
      "19   fr  159    40   29        k\n",
      "20   fr  164    66   32        k\n",
      "21   fr  166    56   42        k\n"
     ]
    }
   ],
   "source": [
    "#Kütüphaneler\n",
    "import pandas as pd\n",
    "import matplotlib.pyplot as plt\n",
    "import numpy as np\n",
    "#veri yükleme\n",
    "veriler = pd.read_csv('veriler.csv')\n",
    "print(veriler)"
   ]
  },
  {
   "cell_type": "code",
   "execution_count": 17,
   "id": "67a7687b-653a-4d5c-bf0e-e4d02508dd1a",
   "metadata": {},
   "outputs": [
    {
     "name": "stdout",
     "output_type": "stream",
     "text": [
      "    boy\n",
      "0   130\n",
      "1   125\n",
      "2   135\n",
      "3   133\n",
      "4   129\n",
      "5   180\n",
      "6   190\n",
      "7   175\n",
      "8   177\n",
      "9   185\n",
      "10  165\n",
      "11  155\n",
      "12  160\n",
      "13  162\n",
      "14  167\n",
      "15  174\n",
      "16  193\n",
      "17  187\n",
      "18  183\n",
      "19  159\n",
      "20  164\n",
      "21  166\n"
     ]
    }
   ],
   "source": [
    "#veri önişleme\n",
    "boy = veriler[['boy']]\n",
    "print(boy)"
   ]
  },
  {
   "cell_type": "code",
   "execution_count": 18,
   "id": "1bcb43f4-15ef-491b-947a-a6e780abd861",
   "metadata": {},
   "outputs": [
    {
     "name": "stdout",
     "output_type": "stream",
     "text": [
      "    boy  kilo\n",
      "0   130    30\n",
      "1   125    36\n",
      "2   135    34\n",
      "3   133    30\n",
      "4   129    38\n",
      "5   180    90\n",
      "6   190    80\n",
      "7   175    90\n",
      "8   177    60\n",
      "9   185   105\n",
      "10  165    55\n",
      "11  155    50\n",
      "12  160    58\n",
      "13  162    59\n",
      "14  167    62\n",
      "15  174    70\n",
      "16  193    90\n",
      "17  187    80\n",
      "18  183    88\n",
      "19  159    40\n",
      "20  164    66\n",
      "21  166    56\n"
     ]
    }
   ],
   "source": [
    "#veri ön işleme\n",
    "boy_kilo = veriler[['boy', 'kilo']]\n",
    "print(boy_kilo)"
   ]
  },
  {
   "cell_type": "code",
   "execution_count": 31,
   "id": "1defe80a-5019-42fd-a165-ac54c411d854",
   "metadata": {},
   "outputs": [
    {
     "name": "stdout",
     "output_type": "stream",
     "text": [
      "[[130.  30.  10.]\n",
      " [125.  36.  11.]\n",
      " [135.  34.  10.]\n",
      " [133.  30.   9.]\n",
      " [129.  38.  12.]\n",
      " [180.  90.  30.]\n",
      " [190.  80.  25.]\n",
      " [175.  90.  35.]\n",
      " [177.  60.  22.]\n",
      " [185. 105.  33.]\n",
      " [165.  55.  27.]\n",
      " [155.  50.  44.]\n",
      " [160.  58.  nan]\n",
      " [162.  59.  41.]\n",
      " [167.  62.  55.]\n",
      " [174.  70.  47.]\n",
      " [193.  90.  nan]\n",
      " [187.  80.  27.]\n",
      " [183.  88.  28.]\n",
      " [159.  40.  29.]\n",
      " [164.  66.  32.]\n",
      " [166.  56.  42.]]\n",
      "[[130.    30.    10.  ]\n",
      " [125.    36.    11.  ]\n",
      " [135.    34.    10.  ]\n",
      " [133.    30.     9.  ]\n",
      " [129.    38.    12.  ]\n",
      " [180.    90.    30.  ]\n",
      " [190.    80.    25.  ]\n",
      " [175.    90.    35.  ]\n",
      " [177.    60.    22.  ]\n",
      " [185.   105.    33.  ]\n",
      " [165.    55.    27.  ]\n",
      " [155.    50.    44.  ]\n",
      " [160.    58.    28.45]\n",
      " [162.    59.    41.  ]\n",
      " [167.    62.    55.  ]\n",
      " [174.    70.    47.  ]\n",
      " [193.    90.    28.45]\n",
      " [187.    80.    27.  ]\n",
      " [183.    88.    28.  ]\n",
      " [159.    40.    29.  ]\n",
      " [164.    66.    32.  ]\n",
      " [166.    56.    42.  ]]\n"
     ]
    }
   ],
   "source": [
    "#eksik veriler\n",
    "eksik_veriler = pd.read_csv('eksikveriler.csv')\n",
    "from sklearn.impute import SimpleImputer\n",
    "imputer = SimpleImputer(missing_values=np.nan, strategy='mean')\n",
    "yas = eksik_veriler.iloc[:,1:4].values\n",
    "print(yas)\n",
    "#fit() fonksiyonu ile ögretiyoruz\n",
    "imputer = imputer.fit(yas[:,1:4])\n",
    "#transform()  uygulama aşaması\n",
    "yas[:,1:4] = imputer.transform(yas[:,1:4])\n",
    "print(yas)"
   ]
  },
  {
   "cell_type": "code",
   "execution_count": null,
   "id": "92b5a0cc-8398-4823-828a-04d79f4b8109",
   "metadata": {},
   "outputs": [],
   "source": []
  }
 ],
 "metadata": {
  "kernelspec": {
   "display_name": "Python 3 (ipykernel)",
   "language": "python",
   "name": "python3"
  },
  "language_info": {
   "codemirror_mode": {
    "name": "ipython",
    "version": 3
   },
   "file_extension": ".py",
   "mimetype": "text/x-python",
   "name": "python",
   "nbconvert_exporter": "python",
   "pygments_lexer": "ipython3",
   "version": "3.10.12"
  }
 },
 "nbformat": 4,
 "nbformat_minor": 5
}
